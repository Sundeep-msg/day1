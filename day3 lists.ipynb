{
 "cells": [
  {
   "cell_type": "code",
   "execution_count": 2,
   "metadata": {},
   "outputs": [
    {
     "data": {
      "text/plain": [
       "[1, 8, 27, 64, 125, 216, 343]"
      ]
     },
     "execution_count": 2,
     "metadata": {},
     "output_type": "execute_result"
    }
   ],
   "source": [
    "list1 = [1, 8, 27,  65, 125]\n",
    "list1[3] = 64\n",
    "list1.append(216)\n",
    "list1.append(7**3)\n",
    "list1"
   ]
  },
  {
   "cell_type": "raw",
   "metadata": {},
   "source": []
  },
  {
   "cell_type": "code",
   "execution_count": 3,
   "metadata": {},
   "outputs": [
    {
     "data": {
      "text/plain": [
       "['a', 'b', 'f', 'g']"
      ]
     },
     "execution_count": 3,
     "metadata": {},
     "output_type": "execute_result"
    }
   ],
   "source": [
    "letters = ['a', 'b', 'c', 'd', 'e', 'f', 'g']\n",
    "letters[2:5] = []\n",
    "letters"
   ]
  },
  {
   "cell_type": "code",
   "execution_count": 4,
   "metadata": {},
   "outputs": [
    {
     "data": {
      "text/plain": [
       "['a', 'b', 'C', 'D', 'E', 'f', 'g']"
      ]
     },
     "execution_count": 4,
     "metadata": {},
     "output_type": "execute_result"
    }
   ],
   "source": [
    "letters = ['a', 'b', 'c', 'd', 'e', 'f', 'g']\n",
    "letters[2:5] = ['C', 'D', 'E']\n",
    "letters"
   ]
  },
  {
   "cell_type": "code",
   "execution_count": 5,
   "metadata": {},
   "outputs": [
    {
     "data": {
      "text/plain": [
       "[['edawrd', 43], ['john', 24]]"
      ]
     },
     "execution_count": 5,
     "metadata": {},
     "output_type": "execute_result"
    }
   ],
   "source": [
    "edward = ['edawrd', 43]\n",
    "john = ['john', 24]\n",
    "database = [edward, john]\n",
    "database\n"
   ]
  },
  {
   "cell_type": "code",
   "execution_count": 8,
   "metadata": {},
   "outputs": [
    {
     "data": {
      "text/plain": [
       "3"
      ]
     },
     "execution_count": 8,
     "metadata": {},
     "output_type": "execute_result"
    }
   ],
   "source": [
    "alphabets = ['a', 'b', 'c']\n",
    "numbers = [1, 2, 3]\n",
    "x = [alphabets, numbers]\n",
    "x[1][2]"
   ]
  },
  {
   "cell_type": "code",
   "execution_count": 11,
   "metadata": {},
   "outputs": [
    {
     "name": "stdout",
     "output_type": "stream",
     "text": [
      "day(1-31): 1\n",
      "month(1-12): 1\n",
      "year: 2000\n",
      "january 1st 2000\n"
     ]
    }
   ],
   "source": [
    "months = ['january', 'february', 'march', 'april', 'may', 'june', 'july', 'august', 'september', 'october', 'november', 'december']\n",
    "endings = ['st', 'nd', 'rd'] +17*['th'] +['st', 'nd', 'rd'] + 7*['th'] + ['st']\n",
    "day = int(input('day(1-31): '))\n",
    "month = int(input('month(1-12): '))\n",
    "year = int(input('year: '))\n",
    "month_name = months[month - 1]\n",
    "ordinal = str(day) + endings[day - 1]\n",
    "print(month_name + ' ' + ordinal + ' ' + str(year))\n"
   ]
  },
  {
   "cell_type": "code",
   "execution_count": 15,
   "metadata": {},
   "outputs": [
    {
     "name": "stdout",
     "output_type": "stream",
     "text": [
      "[1, 3, 5, 7, 9]\n",
      "[4]\n",
      "[1, 5, 9]\n",
      "[9, 8, 7, 6, 5]\n",
      "[10, 8, 6, 4, 2]\n",
      "[]\n",
      "[10, 8, 6, 4, 2]\n",
      "[6, 4, 2]\n",
      "[10, 8]\n"
     ]
    }
   ],
   "source": [
    "numbers = [1, 2, 3, 4, 5, 6, 7, 8, 9, 10]\n",
    "print(numbers[0:10:2])\n",
    "print(numbers[3:6:3])\n",
    "print(numbers[::4])\n",
    "print(numbers[8:3:-1])\n",
    "print(numbers[10:0:-2])\n",
    "print(numbers[0:10:-2])\n",
    "print(numbers[::-2])\n",
    "print(numbers[5::-2])\n",
    "print(numbers[:5:-2])"
   ]
  },
  {
   "cell_type": "code",
   "execution_count": 17,
   "metadata": {},
   "outputs": [
    {
     "data": {
      "text/plain": [
       "True"
      ]
     },
     "execution_count": 17,
     "metadata": {},
     "output_type": "execute_result"
    }
   ],
   "source": [
    "'r' in 'rwe  '\n"
   ]
  },
  {
   "cell_type": "code",
   "execution_count": 19,
   "metadata": {},
   "outputs": [
    {
     "name": "stdout",
     "output_type": "stream",
     "text": [
      "check me121356\n"
     ]
    },
    {
     "data": {
      "text/plain": [
       "True"
      ]
     },
     "execution_count": 19,
     "metadata": {},
     "output_type": "execute_result"
    }
   ],
   "source": [
    "proofs = [1, 2, 4, 121356]\n",
    "int(input('check me')) in proofs\n"
   ]
  },
  {
   "cell_type": "code",
   "execution_count": 32,
   "metadata": {},
   "outputs": [
    {
     "name": "stdout",
     "output_type": "stream",
     "text": [
      "what is your user name: albert\n",
      "whats your ppin number: 1212\n"
     ]
    }
   ],
   "source": [
    "database = [['albert','1234'], ['richard','1111'], ['henry','4321'], ['devil','1313']]\n",
    "user_name = input('what is your user name: ')\n",
    "pin = input('whats your ppin number: ')\n",
    "if [user_name, pin] in database:\n",
    "    print('access granted.')\n",
    "    "
   ]
  },
  {
   "cell_type": "code",
   "execution_count": 25,
   "metadata": {},
   "outputs": [
    {
     "data": {
      "text/plain": [
       "3"
      ]
     },
     "execution_count": 25,
     "metadata": {},
     "output_type": "execute_result"
    }
   ],
   "source": [
    "num = [1, 4577,5758]\n",
    "len(num)"
   ]
  },
  {
   "cell_type": "code",
   "execution_count": 26,
   "metadata": {},
   "outputs": [
    {
     "data": {
      "text/plain": [
       "5758"
      ]
     },
     "execution_count": 26,
     "metadata": {},
     "output_type": "execute_result"
    }
   ],
   "source": [
    "max(num)"
   ]
  },
  {
   "cell_type": "code",
   "execution_count": 27,
   "metadata": {},
   "outputs": [
    {
     "data": {
      "text/plain": [
       "1"
      ]
     },
     "execution_count": 27,
     "metadata": {},
     "output_type": "execute_result"
    }
   ],
   "source": [
    "min(num)"
   ]
  },
  {
   "cell_type": "code",
   "execution_count": 28,
   "metadata": {},
   "outputs": [
    {
     "data": {
      "text/plain": [
       "['h', 'e', 'l', 'l', 'o']"
      ]
     },
     "execution_count": 28,
     "metadata": {},
     "output_type": "execute_result"
    }
   ],
   "source": [
    "list('hello')\n"
   ]
  },
  {
   "cell_type": "code",
   "execution_count": 31,
   "metadata": {},
   "outputs": [
    {
     "name": "stdout",
     "output_type": "stream",
     "text": [
      "enter the date in dd/mm/yyyy format: 31/03/2000\n",
      "march 31st ,2000\n"
     ]
    }
   ],
   "source": [
    "months = ['january', 'february', 'march', 'april', 'may', 'june', 'july', 'august', 'september', 'october', 'november', 'december']\n",
    "endings = ['st', 'nd', 'rd'] +17*['th'] +['st', 'nd', 'rd'] + 7*['th'] + ['st']\n",
    "date = input('enter the date in dd/mm/yyyy format: ')\n",
    "day = int(date[0:2])\n",
    "month = int(date[3:5])\n",
    "year = date[6:]\n",
    "month_name = months[month - 1]\n",
    "ordinal = str(day) + endings[day - 1]\n",
    "print(month_name + ' ' + ordinal + ' ,' + str(year))\n"
   ]
  },
  {
   "cell_type": "code",
   "execution_count": null,
   "metadata": {},
   "outputs": [],
   "source": []
  }
 ],
 "metadata": {
  "kernelspec": {
   "display_name": "Python 3",
   "language": "python",
   "name": "python3"
  },
  "language_info": {
   "codemirror_mode": {
    "name": "ipython",
    "version": 3
   },
   "file_extension": ".py",
   "mimetype": "text/x-python",
   "name": "python",
   "nbconvert_exporter": "python",
   "pygments_lexer": "ipython3",
   "version": "3.7.6"
  }
 },
 "nbformat": 4,
 "nbformat_minor": 4
}
