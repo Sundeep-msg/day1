{
 "cells": [
  {
   "cell_type": "code",
   "execution_count": 1,
   "metadata": {},
   "outputs": [
    {
     "data": {
      "text/plain": [
       "'new string'"
      ]
     },
     "execution_count": 1,
     "metadata": {},
     "output_type": "execute_result"
    }
   ],
   "source": [
    "s = 'new string'\n",
    "s"
   ]
  },
  {
   "cell_type": "code",
   "execution_count": 3,
   "metadata": {},
   "outputs": [
    {
     "name": "stdout",
     "output_type": "stream",
     "text": [
      "hi\n",
      "hello\n"
     ]
    }
   ],
   "source": [
    "print('hi')\n",
    "print('hello')"
   ]
  },
  {
   "cell_type": "code",
   "execution_count": 13,
   "metadata": {},
   "outputs": [
    {
     "name": "stdout",
     "output_type": "stream",
     "text": [
      "let's go1\n"
     ]
    }
   ],
   "source": [
    "print(\"let's go\")"
   ]
  },
  {
   "cell_type": "code",
   "execution_count": 8,
   "metadata": {},
   "outputs": [
    {
     "name": "stdout",
     "output_type": "stream",
     "text": [
      "helloworld\n",
      "let's go\n"
     ]
    }
   ],
   "source": [
    "x = \"hello\"\n",
    "y = \"world\"\n",
    "print(x+y)\n",
    "print('let\\'s go')"
   ]
  },
  {
   "cell_type": "code",
   "execution_count": 14,
   "metadata": {},
   "outputs": [
    {
     "name": "stdout",
     "output_type": "stream",
     "text": [
      "\tC:\n",
      "owhere\n",
      "C:\\nowhere\n",
      "C:\\nowhere\n"
     ]
    }
   ],
   "source": [
    "path = '\\tC:\\nowhere'\n",
    "print(path)\n",
    "print('C:\\\\nowhere')\n",
    "print(r'C:\\nowhere')"
   ]
  },
  {
   "cell_type": "code",
   "execution_count": 15,
   "metadata": {},
   "outputs": [
    {
     "name": "stdout",
     "output_type": "stream",
     "text": [
      " hello world\n",
      "how are you \n",
      "i am fibne.\n"
     ]
    }
   ],
   "source": [
    "print(''' hello world\n",
    "how are you \n",
    "i am fibne.''')"
   ]
  },
  {
   "cell_type": "code",
   "execution_count": 16,
   "metadata": {},
   "outputs": [
    {
     "data": {
      "text/plain": [
       "'hi'"
      ]
     },
     "execution_count": 16,
     "metadata": {},
     "output_type": "execute_result"
    }
   ],
   "source": [
    "'hi'"
   ]
  },
  {
   "cell_type": "code",
   "execution_count": 17,
   "metadata": {},
   "outputs": [
    {
     "name": "stdout",
     "output_type": "stream",
     "text": [
      "spam eggs\n",
      "doesn't\n",
      "doesn't\n",
      "\"yes,\"they said\n",
      "\"yes,\"they said\n"
     ]
    }
   ],
   "source": [
    "print('spam eggs')\n",
    "print('doesn\\'t')\n",
    "print(\"doesn't\")\n",
    "print('\"yes,\"they said')\n",
    "print(\"\\\"yes,\\\"they said\")"
   ]
  },
  {
   "cell_type": "code",
   "execution_count": 18,
   "metadata": {},
   "outputs": [
    {
     "data": {
      "text/plain": [
       "'H'"
      ]
     },
     "execution_count": 18,
     "metadata": {},
     "output_type": "execute_result"
    }
   ],
   "source": [
    "s = 'Hello'\n",
    "s[0]"
   ]
  },
  {
   "cell_type": "code",
   "execution_count": 19,
   "metadata": {},
   "outputs": [
    {
     "data": {
      "text/plain": [
       "'HELLO'"
      ]
     },
     "execution_count": 19,
     "metadata": {},
     "output_type": "execute_result"
    }
   ],
   "source": [
    "s.upper()"
   ]
  },
  {
   "cell_type": "code",
   "execution_count": 22,
   "metadata": {},
   "outputs": [
    {
     "name": "stdout",
     "output_type": "stream",
     "text": [
      "P\n",
      "n\n",
      "Py\n",
      "Python\n",
      "thonPy\n"
     ]
    }
   ],
   "source": [
    "word = 'Python'\n",
    "print(word[0])\n",
    "print(word[-1])\n",
    "print(word[0:2])\n",
    "print(word[:2] + word[2:])\n",
    "print(word[2:] + word[:2])\n"
   ]
  },
  {
   "cell_type": "code",
   "execution_count": 27,
   "metadata": {},
   "outputs": [
    {
     "data": {
      "text/plain": [
       "'enenenpy'"
      ]
     },
     "execution_count": 27,
     "metadata": {},
     "output_type": "execute_result"
    }
   ],
   "source": [
    "prefix = 'py' + 'thon'\n",
    "('en')*3 +'py'\n"
   ]
  },
  {
   "cell_type": "code",
   "execution_count": 29,
   "metadata": {},
   "outputs": [
    {
     "name": "stdout",
     "output_type": "stream",
     "text": [
      "hello, worldd. we are learnuing perghjf\n"
     ]
    }
   ],
   "source": [
    "my_str = \"hello, %s. %s are learnuing perghjf\"\n",
    "values = ('worldd', 'we')\n",
    "print(my_str% values)\n"
   ]
  },
  {
   "cell_type": "code",
   "execution_count": 30,
   "metadata": {},
   "outputs": [
    {
     "name": "stdout",
     "output_type": "stream",
     "text": [
      "flosting pointb numbers: 13.14\n",
      "floatingv point numbers:                     13.14\n",
      "pi with three decimal places: 3.142\n"
     ]
    }
   ],
   "source": [
    "print('flosting pointb numbers: %5.2f' %(13.145))\n",
    "print('floatingv point numbers: %25.2f'%(13.145))\n",
    "format = \"pi with three decimal places: %.3f\"\n",
    "from math import pi\n",
    "print(format %pi)\n"
   ]
  },
  {
   "cell_type": "code",
   "execution_count": 33,
   "metadata": {},
   "outputs": [
    {
     "name": "stdout",
     "output_type": "stream",
     "text": [
      "this is a string with an insert\n",
      "how are you\n",
      "to be or not to be\n"
     ]
    }
   ],
   "source": [
    "print('this is a string with an {}'.format('insert'))\n",
    "print('{2} {1} {0}'.format('you', 'are', 'how'))\n",
    "print('{3} {0} {2} {1} {3} {0}'.format('be', 'not', 'or' ,'to'))\n"
   ]
  },
  {
   "cell_type": "code",
   "execution_count": 35,
   "metadata": {},
   "outputs": [
    {
     "name": "stdout",
     "output_type": "stream",
     "text": [
      "321 0rder 3 2 1\n"
     ]
    }
   ],
   "source": [
    "print('321 0rder {c} {b} {a}'.format(a=1,b=2,c=3))"
   ]
  },
  {
   "cell_type": "code",
   "execution_count": 2,
   "metadata": {},
   "outputs": [
    {
     "name": "stdout",
     "output_type": "stream",
     "text": [
      "[1, 4, 9, 16, 25]\n",
      "1\n",
      "25\n",
      "[1, 4, 9, 16, 25]\n",
      "[1, 4, 9, 16, 25, 36, 49, 64, 81, 100]\n",
      "[9, 16, 25]\n"
     ]
    }
   ],
   "source": [
    "squares = [1, 4, 9, 16, 25]\n",
    "print(squares)\n",
    "print(squares[0])\n",
    "print(squares[-1])\n",
    "print(squares[:])\n",
    "print(squares + [36, 49, 64, 81, 100])\n",
    "print(squares[-3:])"
   ]
  },
  {
   "cell_type": "code",
   "execution_count": null,
   "metadata": {},
   "outputs": [],
   "source": []
  }
 ],
 "metadata": {
  "kernelspec": {
   "display_name": "Python 3",
   "language": "python",
   "name": "python3"
  },
  "language_info": {
   "codemirror_mode": {
    "name": "ipython",
    "version": 3
   },
   "file_extension": ".py",
   "mimetype": "text/x-python",
   "name": "python",
   "nbconvert_exporter": "python",
   "pygments_lexer": "ipython3",
   "version": "3.7.6"
  }
 },
 "nbformat": 4,
 "nbformat_minor": 4
}
